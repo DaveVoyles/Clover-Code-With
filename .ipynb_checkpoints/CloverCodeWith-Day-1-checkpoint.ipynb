{
 "cells": [
  {
   "cell_type": "code",
   "execution_count": 1,
   "metadata": {
    "collapsed": true
   },
   "outputs": [],
   "source": [
    "import pandas            as pd\n",
    "import numpy             as np\n",
    "import seaborn           as sns\n",
    "import matplotlib.pyplot as plt\n",
    "import bisect            as bs\n",
    "%matplotlib inline"
   ]
  },
  {
   "cell_type": "code",
   "execution_count": 2,
   "metadata": {
    "collapsed": true
   },
   "outputs": [],
   "source": [
    "DF_ParcelPickOne = pd.read_csv(\"Data/Parcel Pick Data - 20171201.csv\")\n",
    "DF_ParcelPickTwo = pd.read_csv(\"Data/Parcel Pick Data - 20170601 to 20171211.csv\")\n",
    "DF_LTL           = pd.read_csv(\"Data/LTL-2017-12-11.csv\")\n",
    "DF_Picking       = pd.read_csv(\"Data/picking_dataframe.csv\")"
   ]
  },
  {
   "cell_type": "markdown",
   "metadata": {},
   "source": [
    "# Brief insight to all of the data we just imported"
   ]
  },
  {
   "cell_type": "code",
   "execution_count": 3,
   "metadata": {
    "slideshow": {
     "slide_type": "fragment"
    }
   },
   "outputs": [
    {
     "data": {
      "text/html": [
       "<div>\n",
       "<style>\n",
       "    .dataframe thead tr:only-child th {\n",
       "        text-align: right;\n",
       "    }\n",
       "\n",
       "    .dataframe thead th {\n",
       "        text-align: left;\n",
       "    }\n",
       "\n",
       "    .dataframe tbody tr th {\n",
       "        vertical-align: top;\n",
       "    }\n",
       "</style>\n",
       "<table border=\"1\" class=\"dataframe\">\n",
       "  <thead>\n",
       "    <tr style=\"text-align: right;\">\n",
       "      <th></th>\n",
       "      <th>CartId</th>\n",
       "      <th>LocationCode</th>\n",
       "      <th>CartNo</th>\n",
       "      <th>DeviceNo</th>\n",
       "      <th>CartType</th>\n",
       "      <th>ActivityType</th>\n",
       "      <th>UserId</th>\n",
       "      <th>CreateCartDate</th>\n",
       "      <th>StartPickDate</th>\n",
       "      <th>CloseCartDate</th>\n",
       "      <th>...</th>\n",
       "      <th>SourceNo</th>\n",
       "      <th>SourceLineNo</th>\n",
       "      <th>SourceType.1</th>\n",
       "      <th>SourceSubtype</th>\n",
       "      <th>UOM</th>\n",
       "      <th>ShippingAgentCode</th>\n",
       "      <th>ShippingAgentService</th>\n",
       "      <th>PacklineScanStart</th>\n",
       "      <th>PacklineScanEnd</th>\n",
       "      <th>PacklineScanUserId</th>\n",
       "    </tr>\n",
       "  </thead>\n",
       "  <tbody>\n",
       "    <tr>\n",
       "      <th>0</th>\n",
       "      <td>47899</td>\n",
       "      <td>IL01</td>\n",
       "      <td>P109</td>\n",
       "      <td>35271002</td>\n",
       "      <td>FedEx</td>\n",
       "      <td>2</td>\n",
       "      <td>Crichards</td>\n",
       "      <td>2017-12-01 06:14:40.253</td>\n",
       "      <td>2017-12-01 06:14:44.000</td>\n",
       "      <td>2017-12-01 06:27:40.000</td>\n",
       "      <td>...</td>\n",
       "      <td>SO3124249</td>\n",
       "      <td>10000</td>\n",
       "      <td>37</td>\n",
       "      <td>1</td>\n",
       "      <td>EA</td>\n",
       "      <td>FEDEX</td>\n",
       "      <td>GROUND SERVICE</td>\n",
       "      <td>2017-12-01 07:54:00.000</td>\n",
       "      <td>2017-12-01 07:54:55.217</td>\n",
       "      <td>KCOBLER</td>\n",
       "    </tr>\n",
       "    <tr>\n",
       "      <th>1</th>\n",
       "      <td>47899</td>\n",
       "      <td>IL01</td>\n",
       "      <td>P109</td>\n",
       "      <td>35271002</td>\n",
       "      <td>FedEx</td>\n",
       "      <td>2</td>\n",
       "      <td>Crichards</td>\n",
       "      <td>2017-12-01 06:14:40.253</td>\n",
       "      <td>2017-12-01 06:14:44.000</td>\n",
       "      <td>2017-12-01 06:27:40.000</td>\n",
       "      <td>...</td>\n",
       "      <td>SO3124276</td>\n",
       "      <td>10000</td>\n",
       "      <td>37</td>\n",
       "      <td>1</td>\n",
       "      <td>EA</td>\n",
       "      <td>FEDEX</td>\n",
       "      <td>GROUND SERVICE</td>\n",
       "      <td>2017-12-01 07:55:00.000</td>\n",
       "      <td>2017-12-01 07:55:53.310</td>\n",
       "      <td>KCOBLER</td>\n",
       "    </tr>\n",
       "    <tr>\n",
       "      <th>2</th>\n",
       "      <td>47899</td>\n",
       "      <td>IL01</td>\n",
       "      <td>P109</td>\n",
       "      <td>35271002</td>\n",
       "      <td>FedEx</td>\n",
       "      <td>2</td>\n",
       "      <td>Crichards</td>\n",
       "      <td>2017-12-01 06:14:40.253</td>\n",
       "      <td>2017-12-01 06:14:44.000</td>\n",
       "      <td>2017-12-01 06:27:40.000</td>\n",
       "      <td>...</td>\n",
       "      <td>SO3124058</td>\n",
       "      <td>10000</td>\n",
       "      <td>37</td>\n",
       "      <td>1</td>\n",
       "      <td>EA</td>\n",
       "      <td>FEDEX</td>\n",
       "      <td>GROUND SERVICE</td>\n",
       "      <td>2017-12-01 07:55:00.000</td>\n",
       "      <td>2017-12-01 07:55:34.640</td>\n",
       "      <td>KCOBLER</td>\n",
       "    </tr>\n",
       "    <tr>\n",
       "      <th>3</th>\n",
       "      <td>47899</td>\n",
       "      <td>IL01</td>\n",
       "      <td>P109</td>\n",
       "      <td>35271002</td>\n",
       "      <td>FedEx</td>\n",
       "      <td>2</td>\n",
       "      <td>Crichards</td>\n",
       "      <td>2017-12-01 06:14:40.253</td>\n",
       "      <td>2017-12-01 06:14:44.000</td>\n",
       "      <td>2017-12-01 06:27:40.000</td>\n",
       "      <td>...</td>\n",
       "      <td>SO3124058</td>\n",
       "      <td>20000</td>\n",
       "      <td>37</td>\n",
       "      <td>1</td>\n",
       "      <td>EA</td>\n",
       "      <td>FEDEX</td>\n",
       "      <td>GROUND SERVICE</td>\n",
       "      <td>2017-12-01 07:55:00.000</td>\n",
       "      <td>2017-12-01 07:55:34.640</td>\n",
       "      <td>KCOBLER</td>\n",
       "    </tr>\n",
       "    <tr>\n",
       "      <th>4</th>\n",
       "      <td>47899</td>\n",
       "      <td>IL01</td>\n",
       "      <td>P109</td>\n",
       "      <td>35271002</td>\n",
       "      <td>FedEx</td>\n",
       "      <td>2</td>\n",
       "      <td>Crichards</td>\n",
       "      <td>2017-12-01 06:14:40.253</td>\n",
       "      <td>2017-12-01 06:14:44.000</td>\n",
       "      <td>2017-12-01 06:27:40.000</td>\n",
       "      <td>...</td>\n",
       "      <td>SO3124058</td>\n",
       "      <td>30000</td>\n",
       "      <td>37</td>\n",
       "      <td>1</td>\n",
       "      <td>EA</td>\n",
       "      <td>FEDEX</td>\n",
       "      <td>GROUND SERVICE</td>\n",
       "      <td>2017-12-01 07:55:00.000</td>\n",
       "      <td>2017-12-01 07:55:34.640</td>\n",
       "      <td>KCOBLER</td>\n",
       "    </tr>\n",
       "  </tbody>\n",
       "</table>\n",
       "<p>5 rows × 39 columns</p>\n",
       "</div>"
      ],
      "text/plain": [
       "   CartId LocationCode CartNo  DeviceNo CartType  ActivityType     UserId  \\\n",
       "0   47899         IL01   P109  35271002    FedEx             2  Crichards   \n",
       "1   47899         IL01   P109  35271002    FedEx             2  Crichards   \n",
       "2   47899         IL01   P109  35271002    FedEx             2  Crichards   \n",
       "3   47899         IL01   P109  35271002    FedEx             2  Crichards   \n",
       "4   47899         IL01   P109  35271002    FedEx             2  Crichards   \n",
       "\n",
       "            CreateCartDate            StartPickDate            CloseCartDate  \\\n",
       "0  2017-12-01 06:14:40.253  2017-12-01 06:14:44.000  2017-12-01 06:27:40.000   \n",
       "1  2017-12-01 06:14:40.253  2017-12-01 06:14:44.000  2017-12-01 06:27:40.000   \n",
       "2  2017-12-01 06:14:40.253  2017-12-01 06:14:44.000  2017-12-01 06:27:40.000   \n",
       "3  2017-12-01 06:14:40.253  2017-12-01 06:14:44.000  2017-12-01 06:27:40.000   \n",
       "4  2017-12-01 06:14:40.253  2017-12-01 06:14:44.000  2017-12-01 06:27:40.000   \n",
       "\n",
       "          ...           SourceNo SourceLineNo  SourceType.1  SourceSubtype  \\\n",
       "0         ...          SO3124249        10000            37              1   \n",
       "1         ...          SO3124276        10000            37              1   \n",
       "2         ...          SO3124058        10000            37              1   \n",
       "3         ...          SO3124058        20000            37              1   \n",
       "4         ...          SO3124058        30000            37              1   \n",
       "\n",
       "   UOM  ShippingAgentCode  ShippingAgentService        PacklineScanStart  \\\n",
       "0   EA              FEDEX        GROUND SERVICE  2017-12-01 07:54:00.000   \n",
       "1   EA              FEDEX        GROUND SERVICE  2017-12-01 07:55:00.000   \n",
       "2   EA              FEDEX        GROUND SERVICE  2017-12-01 07:55:00.000   \n",
       "3   EA              FEDEX        GROUND SERVICE  2017-12-01 07:55:00.000   \n",
       "4   EA              FEDEX        GROUND SERVICE  2017-12-01 07:55:00.000   \n",
       "\n",
       "           PacklineScanEnd  PacklineScanUserId  \n",
       "0  2017-12-01 07:54:55.217             KCOBLER  \n",
       "1  2017-12-01 07:55:53.310             KCOBLER  \n",
       "2  2017-12-01 07:55:34.640             KCOBLER  \n",
       "3  2017-12-01 07:55:34.640             KCOBLER  \n",
       "4  2017-12-01 07:55:34.640             KCOBLER  \n",
       "\n",
       "[5 rows x 39 columns]"
      ]
     },
     "execution_count": 3,
     "metadata": {},
     "output_type": "execute_result"
    }
   ],
   "source": [
    "DF_ParcelPickOne.head()"
   ]
  },
  {
   "cell_type": "code",
   "execution_count": 4,
   "metadata": {},
   "outputs": [
    {
     "name": "stdout",
     "output_type": "stream",
     "text": [
      "<class 'pandas.core.frame.DataFrame'>\n",
      "RangeIndex: 2544 entries, 0 to 2543\n",
      "Data columns (total 39 columns):\n",
      "CartId                  2544 non-null int64\n",
      "LocationCode            2544 non-null object\n",
      "CartNo                  2544 non-null object\n",
      "DeviceNo                2544 non-null object\n",
      "CartType                2544 non-null object\n",
      "ActivityType            2544 non-null int64\n",
      "UserId                  2544 non-null object\n",
      "CreateCartDate          2544 non-null object\n",
      "StartPickDate           2544 non-null object\n",
      "CloseCartDate           2544 non-null object\n",
      "PackLineQueueDate       2544 non-null object\n",
      "CompleteCartDate        2544 non-null object\n",
      "StatusId                2544 non-null int64\n",
      "ProcessLaneId           2544 non-null int64\n",
      "SourceType              0 non-null float64\n",
      "Id                      2544 non-null int64\n",
      "CartId.1                2544 non-null int64\n",
      "No                      2544 non-null object\n",
      "LineNo                  2544 non-null int64\n",
      "ActivityType.1          2544 non-null int64\n",
      "Item                    2544 non-null object\n",
      "ItemDescription         2544 non-null object\n",
      "Bin                     2544 non-null object\n",
      "Qty                     2544 non-null float64\n",
      "ZoneCode                2544 non-null object\n",
      "PickDate                2544 non-null object\n",
      "Shipped                 2540 non-null float64\n",
      "CustomerNo              2544 non-null object\n",
      "CustomerName            0 non-null float64\n",
      "SourceNo                2544 non-null object\n",
      "SourceLineNo            2544 non-null int64\n",
      "SourceType.1            2544 non-null int64\n",
      "SourceSubtype           2544 non-null int64\n",
      "UOM                     2544 non-null object\n",
      "ShippingAgentCode       2544 non-null object\n",
      "ShippingAgentService    2544 non-null object\n",
      "PacklineScanStart       2540 non-null object\n",
      "PacklineScanEnd         2540 non-null object\n",
      "PacklineScanUserId      2540 non-null object\n",
      "dtypes: float64(4), int64(11), object(24)\n",
      "memory usage: 775.2+ KB\n"
     ]
    }
   ],
   "source": [
    "DF_ParcelPickOne.info()"
   ]
  },
  {
   "cell_type": "code",
   "execution_count": 5,
   "metadata": {},
   "outputs": [
    {
     "data": {
      "text/html": [
       "<div>\n",
       "<style>\n",
       "    .dataframe thead tr:only-child th {\n",
       "        text-align: right;\n",
       "    }\n",
       "\n",
       "    .dataframe thead th {\n",
       "        text-align: left;\n",
       "    }\n",
       "\n",
       "    .dataframe tbody tr th {\n",
       "        vertical-align: top;\n",
       "    }\n",
       "</style>\n",
       "<table border=\"1\" class=\"dataframe\">\n",
       "  <thead>\n",
       "    <tr style=\"text-align: right;\">\n",
       "      <th></th>\n",
       "      <th>PickPK</th>\n",
       "      <th>Location</th>\n",
       "      <th>ActivityID</th>\n",
       "      <th>Line</th>\n",
       "      <th>ItemID</th>\n",
       "      <th>Bin</th>\n",
       "      <th>OriginalBin</th>\n",
       "      <th>PendingBin</th>\n",
       "      <th>OriginalZone</th>\n",
       "      <th>PendingZone</th>\n",
       "      <th>QuantityToHandle</th>\n",
       "      <th>QuantityOutstanding</th>\n",
       "      <th>UOM</th>\n",
       "      <th>Description</th>\n",
       "      <th>CreatedOn</th>\n",
       "      <th>CreatedBy</th>\n",
       "    </tr>\n",
       "  </thead>\n",
       "  <tbody>\n",
       "    <tr>\n",
       "      <th>0</th>\n",
       "      <td>A437C0BB-D136-4D07-8C43-0009057E4A0B</td>\n",
       "      <td>IL01</td>\n",
       "      <td>W-PI8492807</td>\n",
       "      <td>50000</td>\n",
       "      <td>847400001</td>\n",
       "      <td>BO22101</td>\n",
       "      <td>NaN</td>\n",
       "      <td>NaN</td>\n",
       "      <td>NaN</td>\n",
       "      <td>FLOOR</td>\n",
       "      <td>0</td>\n",
       "      <td>0</td>\n",
       "      <td>EA</td>\n",
       "      <td>Insert, Mold Pulp End Cap, Lft</td>\n",
       "      <td>2017-12-07 06:44:10.257</td>\n",
       "      <td>Khester</td>\n",
       "    </tr>\n",
       "    <tr>\n",
       "      <th>1</th>\n",
       "      <td>CAC502CA-FBCC-4C3C-BE1B-0043AE35F574</td>\n",
       "      <td>IL01</td>\n",
       "      <td>W-PI8495142</td>\n",
       "      <td>70000</td>\n",
       "      <td>839501001</td>\n",
       "      <td>BN11102</td>\n",
       "      <td>NaN</td>\n",
       "      <td>NaN</td>\n",
       "      <td>NaN</td>\n",
       "      <td>FLOOR</td>\n",
       "      <td>0</td>\n",
       "      <td>0</td>\n",
       "      <td>EA</td>\n",
       "      <td>Insrt,Mlded EndCap,4600 Right</td>\n",
       "      <td>2017-12-07 18:38:54.807</td>\n",
       "      <td>cbaker</td>\n",
       "    </tr>\n",
       "    <tr>\n",
       "      <th>2</th>\n",
       "      <td>DE3207F4-7D15-47D4-B27D-005359D4DE42</td>\n",
       "      <td>IL01</td>\n",
       "      <td>W-PI8494084</td>\n",
       "      <td>90000</td>\n",
       "      <td>IVRLC75M</td>\n",
       "      <td>FR02401</td>\n",
       "      <td>NaN</td>\n",
       "      <td>NaN</td>\n",
       "      <td>NaN</td>\n",
       "      <td>FLOOR</td>\n",
       "      <td>0</td>\n",
       "      <td>0</td>\n",
       "      <td>EA</td>\n",
       "      <td>Comp, IJ, BRO LC75 Magenta HY</td>\n",
       "      <td>2017-12-07 09:48:21.053</td>\n",
       "      <td>Rwoodin</td>\n",
       "    </tr>\n",
       "    <tr>\n",
       "      <th>3</th>\n",
       "      <td>D789CF51-76B6-4A18-82F8-006AE0E6ABF2</td>\n",
       "      <td>IL01</td>\n",
       "      <td>W-PI8495141</td>\n",
       "      <td>30000</td>\n",
       "      <td>851605001</td>\n",
       "      <td>BN08102</td>\n",
       "      <td>NaN</td>\n",
       "      <td>NaN</td>\n",
       "      <td>NaN</td>\n",
       "      <td>FLOOR</td>\n",
       "      <td>0</td>\n",
       "      <td>0</td>\n",
       "      <td>EA</td>\n",
       "      <td>Box, MOM Toner #1</td>\n",
       "      <td>2017-12-07 18:28:16.587</td>\n",
       "      <td>cbaker</td>\n",
       "    </tr>\n",
       "    <tr>\n",
       "      <th>4</th>\n",
       "      <td>91D4D744-5C05-4FCC-9D1B-006C22AB1831</td>\n",
       "      <td>IL01</td>\n",
       "      <td>W-PI8494089</td>\n",
       "      <td>90000</td>\n",
       "      <td>IVR951XLM</td>\n",
       "      <td>FR02301</td>\n",
       "      <td>NaN</td>\n",
       "      <td>NaN</td>\n",
       "      <td>NaN</td>\n",
       "      <td>FLOOR</td>\n",
       "      <td>0</td>\n",
       "      <td>0</td>\n",
       "      <td>EA</td>\n",
       "      <td>IVR, HP 951XL Magenta</td>\n",
       "      <td>2017-12-07 12:23:43.943</td>\n",
       "      <td>Rwoodin</td>\n",
       "    </tr>\n",
       "  </tbody>\n",
       "</table>\n",
       "</div>"
      ],
      "text/plain": [
       "                                 PickPK Location   ActivityID   Line  \\\n",
       "0  A437C0BB-D136-4D07-8C43-0009057E4A0B     IL01  W-PI8492807  50000   \n",
       "1  CAC502CA-FBCC-4C3C-BE1B-0043AE35F574     IL01  W-PI8495142  70000   \n",
       "2  DE3207F4-7D15-47D4-B27D-005359D4DE42     IL01  W-PI8494084  90000   \n",
       "3  D789CF51-76B6-4A18-82F8-006AE0E6ABF2     IL01  W-PI8495141  30000   \n",
       "4  91D4D744-5C05-4FCC-9D1B-006C22AB1831     IL01  W-PI8494089  90000   \n",
       "\n",
       "      ItemID      Bin  OriginalBin  PendingBin  OriginalZone PendingZone  \\\n",
       "0  847400001  BO22101          NaN         NaN           NaN       FLOOR   \n",
       "1  839501001  BN11102          NaN         NaN           NaN       FLOOR   \n",
       "2   IVRLC75M  FR02401          NaN         NaN           NaN       FLOOR   \n",
       "3  851605001  BN08102          NaN         NaN           NaN       FLOOR   \n",
       "4  IVR951XLM  FR02301          NaN         NaN           NaN       FLOOR   \n",
       "\n",
       "   QuantityToHandle  QuantityOutstanding UOM                     Description  \\\n",
       "0                 0                    0  EA  Insert, Mold Pulp End Cap, Lft   \n",
       "1                 0                    0  EA   Insrt,Mlded EndCap,4600 Right   \n",
       "2                 0                    0  EA   Comp, IJ, BRO LC75 Magenta HY   \n",
       "3                 0                    0  EA               Box, MOM Toner #1   \n",
       "4                 0                    0  EA           IVR, HP 951XL Magenta   \n",
       "\n",
       "                 CreatedOn CreatedBy  \n",
       "0  2017-12-07 06:44:10.257   Khester  \n",
       "1  2017-12-07 18:38:54.807    cbaker  \n",
       "2  2017-12-07 09:48:21.053   Rwoodin  \n",
       "3  2017-12-07 18:28:16.587    cbaker  \n",
       "4  2017-12-07 12:23:43.943   Rwoodin  "
      ]
     },
     "execution_count": 5,
     "metadata": {},
     "output_type": "execute_result"
    }
   ],
   "source": [
    "DF_LTL.head()"
   ]
  },
  {
   "cell_type": "code",
   "execution_count": 6,
   "metadata": {},
   "outputs": [
    {
     "name": "stdout",
     "output_type": "stream",
     "text": [
      "<class 'pandas.core.frame.DataFrame'>\n",
      "RangeIndex: 966 entries, 0 to 965\n",
      "Data columns (total 16 columns):\n",
      "PickPK                 966 non-null object\n",
      "Location               966 non-null object\n",
      "ActivityID             966 non-null object\n",
      "Line                   966 non-null int64\n",
      "ItemID                 966 non-null object\n",
      "Bin                    966 non-null object\n",
      "OriginalBin            0 non-null float64\n",
      "PendingBin             0 non-null float64\n",
      "OriginalZone           0 non-null float64\n",
      "PendingZone            966 non-null object\n",
      "QuantityToHandle       966 non-null int64\n",
      "QuantityOutstanding    966 non-null int64\n",
      "UOM                    966 non-null object\n",
      "Description            966 non-null object\n",
      "CreatedOn              966 non-null object\n",
      "CreatedBy              966 non-null object\n",
      "dtypes: float64(3), int64(3), object(10)\n",
      "memory usage: 120.8+ KB\n"
     ]
    }
   ],
   "source": [
    "DF_LTL.info()"
   ]
  },
  {
   "cell_type": "code",
   "execution_count": 7,
   "metadata": {},
   "outputs": [
    {
     "data": {
      "text/html": [
       "<div>\n",
       "<style>\n",
       "    .dataframe thead tr:only-child th {\n",
       "        text-align: right;\n",
       "    }\n",
       "\n",
       "    .dataframe thead th {\n",
       "        text-align: left;\n",
       "    }\n",
       "\n",
       "    .dataframe tbody tr th {\n",
       "        vertical-align: top;\n",
       "    }\n",
       "</style>\n",
       "<table border=\"1\" class=\"dataframe\">\n",
       "  <thead>\n",
       "    <tr style=\"text-align: right;\">\n",
       "      <th></th>\n",
       "      <th>UserId</th>\n",
       "      <th>Bin</th>\n",
       "      <th>Qty</th>\n",
       "      <th>ZoneCode</th>\n",
       "      <th>PickDate</th>\n",
       "    </tr>\n",
       "  </thead>\n",
       "  <tbody>\n",
       "    <tr>\n",
       "      <th>0</th>\n",
       "      <td>Crichards</td>\n",
       "      <td>FR06402</td>\n",
       "      <td>1</td>\n",
       "      <td>FLOOR</td>\n",
       "      <td>12/1/17 6:17:01</td>\n",
       "    </tr>\n",
       "    <tr>\n",
       "      <th>1</th>\n",
       "      <td>Crichards</td>\n",
       "      <td>AL21203</td>\n",
       "      <td>1</td>\n",
       "      <td>FLOOR</td>\n",
       "      <td>12/1/17 6:19:46</td>\n",
       "    </tr>\n",
       "    <tr>\n",
       "      <th>2</th>\n",
       "      <td>Crichards</td>\n",
       "      <td>AG01201</td>\n",
       "      <td>1</td>\n",
       "      <td>FLOOR</td>\n",
       "      <td>12/1/17 6:21:24</td>\n",
       "    </tr>\n",
       "    <tr>\n",
       "      <th>3</th>\n",
       "      <td>Crichards</td>\n",
       "      <td>AL34103</td>\n",
       "      <td>1</td>\n",
       "      <td>FLOOR</td>\n",
       "      <td>12/1/17 6:23:54</td>\n",
       "    </tr>\n",
       "    <tr>\n",
       "      <th>4</th>\n",
       "      <td>Crichards</td>\n",
       "      <td>AT16103</td>\n",
       "      <td>1</td>\n",
       "      <td>FLOOR</td>\n",
       "      <td>12/1/17 6:25:07</td>\n",
       "    </tr>\n",
       "  </tbody>\n",
       "</table>\n",
       "</div>"
      ],
      "text/plain": [
       "      UserId      Bin  Qty ZoneCode         PickDate\n",
       "0  Crichards  FR06402    1    FLOOR  12/1/17 6:17:01\n",
       "1  Crichards  AL21203    1    FLOOR  12/1/17 6:19:46\n",
       "2  Crichards  AG01201    1    FLOOR  12/1/17 6:21:24\n",
       "3  Crichards  AL34103    1    FLOOR  12/1/17 6:23:54\n",
       "4  Crichards  AT16103    1    FLOOR  12/1/17 6:25:07"
      ]
     },
     "execution_count": 7,
     "metadata": {},
     "output_type": "execute_result"
    }
   ],
   "source": [
    "DF_Picking.head()"
   ]
  },
  {
   "cell_type": "code",
   "execution_count": 8,
   "metadata": {},
   "outputs": [
    {
     "name": "stdout",
     "output_type": "stream",
     "text": [
      "<class 'pandas.core.frame.DataFrame'>\n",
      "RangeIndex: 2544 entries, 0 to 2543\n",
      "Data columns (total 5 columns):\n",
      "UserId      2544 non-null object\n",
      "Bin         2544 non-null object\n",
      "Qty         2544 non-null int64\n",
      "ZoneCode    2544 non-null object\n",
      "PickDate    2544 non-null object\n",
      "dtypes: int64(1), object(4)\n",
      "memory usage: 99.5+ KB\n"
     ]
    }
   ],
   "source": [
    "DF_Picking.info()"
   ]
  },
  {
   "cell_type": "code",
   "execution_count": 9,
   "metadata": {},
   "outputs": [
    {
     "data": {
      "text/html": [
       "<div>\n",
       "<style>\n",
       "    .dataframe thead tr:only-child th {\n",
       "        text-align: right;\n",
       "    }\n",
       "\n",
       "    .dataframe thead th {\n",
       "        text-align: left;\n",
       "    }\n",
       "\n",
       "    .dataframe tbody tr th {\n",
       "        vertical-align: top;\n",
       "    }\n",
       "</style>\n",
       "<table border=\"1\" class=\"dataframe\">\n",
       "  <thead>\n",
       "    <tr style=\"text-align: right;\">\n",
       "      <th></th>\n",
       "      <th>UserId</th>\n",
       "      <th>Bin</th>\n",
       "      <th>Aisle</th>\n",
       "      <th>Bay</th>\n",
       "      <th>Level</th>\n",
       "      <th>Bay Position</th>\n",
       "      <th>ZoneCode</th>\n",
       "      <th>Qty</th>\n",
       "      <th>PickDate</th>\n",
       "    </tr>\n",
       "  </thead>\n",
       "  <tbody>\n",
       "    <tr>\n",
       "      <th>0</th>\n",
       "      <td>Cfarmer</td>\n",
       "      <td>AB16303</td>\n",
       "      <td>AB</td>\n",
       "      <td>16.0</td>\n",
       "      <td>3.0</td>\n",
       "      <td>3.0</td>\n",
       "      <td>NON-FLOOR</td>\n",
       "      <td>1.0</td>\n",
       "      <td>2017-06-01 16:06:56.913</td>\n",
       "    </tr>\n",
       "    <tr>\n",
       "      <th>1</th>\n",
       "      <td>Cfarmer</td>\n",
       "      <td>AB16402</td>\n",
       "      <td>AB</td>\n",
       "      <td>16.0</td>\n",
       "      <td>4.0</td>\n",
       "      <td>2.0</td>\n",
       "      <td>NON-FLOOR</td>\n",
       "      <td>1.0</td>\n",
       "      <td>2017-06-01 16:07:18.077</td>\n",
       "    </tr>\n",
       "    <tr>\n",
       "      <th>2</th>\n",
       "      <td>Cfarmer</td>\n",
       "      <td>AT11303</td>\n",
       "      <td>AT</td>\n",
       "      <td>11.0</td>\n",
       "      <td>3.0</td>\n",
       "      <td>3.0</td>\n",
       "      <td>NON-FLOOR</td>\n",
       "      <td>4.0</td>\n",
       "      <td>2017-06-01 16:10:22.647</td>\n",
       "    </tr>\n",
       "    <tr>\n",
       "      <th>3</th>\n",
       "      <td>Cfarmer</td>\n",
       "      <td>FR03104</td>\n",
       "      <td>FR</td>\n",
       "      <td>3.0</td>\n",
       "      <td>1.0</td>\n",
       "      <td>4.0</td>\n",
       "      <td>NON-FLOOR</td>\n",
       "      <td>2.0</td>\n",
       "      <td>2017-06-01 16:11:54.473</td>\n",
       "    </tr>\n",
       "    <tr>\n",
       "      <th>4</th>\n",
       "      <td>Cfarmer</td>\n",
       "      <td>AR05202</td>\n",
       "      <td>AR</td>\n",
       "      <td>5.0</td>\n",
       "      <td>2.0</td>\n",
       "      <td>2.0</td>\n",
       "      <td>NON-FLOOR</td>\n",
       "      <td>1.0</td>\n",
       "      <td>2017-06-01 16:13:56.590</td>\n",
       "    </tr>\n",
       "  </tbody>\n",
       "</table>\n",
       "</div>"
      ],
      "text/plain": [
       "    UserId      Bin Aisle   Bay  Level  Bay Position   ZoneCode  Qty  \\\n",
       "0  Cfarmer  AB16303    AB  16.0    3.0           3.0  NON-FLOOR  1.0   \n",
       "1  Cfarmer  AB16402    AB  16.0    4.0           2.0  NON-FLOOR  1.0   \n",
       "2  Cfarmer  AT11303    AT  11.0    3.0           3.0  NON-FLOOR  4.0   \n",
       "3  Cfarmer  FR03104    FR   3.0    1.0           4.0  NON-FLOOR  2.0   \n",
       "4  Cfarmer  AR05202    AR   5.0    2.0           2.0  NON-FLOOR  1.0   \n",
       "\n",
       "                  PickDate  \n",
       "0  2017-06-01 16:06:56.913  \n",
       "1  2017-06-01 16:07:18.077  \n",
       "2  2017-06-01 16:10:22.647  \n",
       "3  2017-06-01 16:11:54.473  \n",
       "4  2017-06-01 16:13:56.590  "
      ]
     },
     "execution_count": 9,
     "metadata": {},
     "output_type": "execute_result"
    }
   ],
   "source": [
    "DF_ParcelPickTwo.head()"
   ]
  },
  {
   "cell_type": "code",
   "execution_count": 10,
   "metadata": {},
   "outputs": [
    {
     "name": "stdout",
     "output_type": "stream",
     "text": [
      "<class 'pandas.core.frame.DataFrame'>\n",
      "RangeIndex: 338982 entries, 0 to 338981\n",
      "Data columns (total 9 columns):\n",
      "UserId          338982 non-null object\n",
      "Bin             338982 non-null object\n",
      "Aisle           338982 non-null object\n",
      "Bay             332977 non-null float64\n",
      "Level           330705 non-null float64\n",
      "Bay Position    330681 non-null float64\n",
      "ZoneCode        338982 non-null object\n",
      "Qty             338982 non-null float64\n",
      "PickDate        338982 non-null object\n",
      "dtypes: float64(4), object(5)\n",
      "memory usage: 23.3+ MB\n"
     ]
    }
   ],
   "source": [
    "DF_ParcelPickTwo.info()"
   ]
  },
  {
   "cell_type": "code",
   "execution_count": 11,
   "metadata": {},
   "outputs": [
    {
     "data": {
      "text/html": [
       "<div>\n",
       "<style>\n",
       "    .dataframe thead tr:only-child th {\n",
       "        text-align: right;\n",
       "    }\n",
       "\n",
       "    .dataframe thead th {\n",
       "        text-align: left;\n",
       "    }\n",
       "\n",
       "    .dataframe tbody tr th {\n",
       "        vertical-align: top;\n",
       "    }\n",
       "</style>\n",
       "<table border=\"1\" class=\"dataframe\">\n",
       "  <thead>\n",
       "    <tr style=\"text-align: right;\">\n",
       "      <th></th>\n",
       "      <th>UserId</th>\n",
       "      <th>Bin</th>\n",
       "      <th>Aisle</th>\n",
       "      <th>Bay</th>\n",
       "      <th>Level</th>\n",
       "      <th>Bay Position</th>\n",
       "      <th>ZoneCode</th>\n",
       "      <th>Qty</th>\n",
       "      <th>PickDate</th>\n",
       "    </tr>\n",
       "  </thead>\n",
       "  <tbody>\n",
       "    <tr>\n",
       "      <th>0</th>\n",
       "      <td>Cfarmer</td>\n",
       "      <td>AB16303</td>\n",
       "      <td>AB</td>\n",
       "      <td>16.0</td>\n",
       "      <td>3.0</td>\n",
       "      <td>3.0</td>\n",
       "      <td>NON-FLOOR</td>\n",
       "      <td>1.0</td>\n",
       "      <td>2017-06-01 16:06:56.913</td>\n",
       "    </tr>\n",
       "    <tr>\n",
       "      <th>1</th>\n",
       "      <td>Cfarmer</td>\n",
       "      <td>AB16402</td>\n",
       "      <td>AB</td>\n",
       "      <td>16.0</td>\n",
       "      <td>4.0</td>\n",
       "      <td>2.0</td>\n",
       "      <td>NON-FLOOR</td>\n",
       "      <td>1.0</td>\n",
       "      <td>2017-06-01 16:07:18.077</td>\n",
       "    </tr>\n",
       "    <tr>\n",
       "      <th>2</th>\n",
       "      <td>Cfarmer</td>\n",
       "      <td>AT11303</td>\n",
       "      <td>AT</td>\n",
       "      <td>11.0</td>\n",
       "      <td>3.0</td>\n",
       "      <td>3.0</td>\n",
       "      <td>NON-FLOOR</td>\n",
       "      <td>4.0</td>\n",
       "      <td>2017-06-01 16:10:22.647</td>\n",
       "    </tr>\n",
       "    <tr>\n",
       "      <th>3</th>\n",
       "      <td>Cfarmer</td>\n",
       "      <td>FR03104</td>\n",
       "      <td>FR</td>\n",
       "      <td>3.0</td>\n",
       "      <td>1.0</td>\n",
       "      <td>4.0</td>\n",
       "      <td>NON-FLOOR</td>\n",
       "      <td>2.0</td>\n",
       "      <td>2017-06-01 16:11:54.473</td>\n",
       "    </tr>\n",
       "    <tr>\n",
       "      <th>4</th>\n",
       "      <td>Cfarmer</td>\n",
       "      <td>AR05202</td>\n",
       "      <td>AR</td>\n",
       "      <td>5.0</td>\n",
       "      <td>2.0</td>\n",
       "      <td>2.0</td>\n",
       "      <td>NON-FLOOR</td>\n",
       "      <td>1.0</td>\n",
       "      <td>2017-06-01 16:13:56.590</td>\n",
       "    </tr>\n",
       "  </tbody>\n",
       "</table>\n",
       "</div>"
      ],
      "text/plain": [
       "    UserId      Bin Aisle   Bay  Level  Bay Position   ZoneCode  Qty  \\\n",
       "0  Cfarmer  AB16303    AB  16.0    3.0           3.0  NON-FLOOR  1.0   \n",
       "1  Cfarmer  AB16402    AB  16.0    4.0           2.0  NON-FLOOR  1.0   \n",
       "2  Cfarmer  AT11303    AT  11.0    3.0           3.0  NON-FLOOR  4.0   \n",
       "3  Cfarmer  FR03104    FR   3.0    1.0           4.0  NON-FLOOR  2.0   \n",
       "4  Cfarmer  AR05202    AR   5.0    2.0           2.0  NON-FLOOR  1.0   \n",
       "\n",
       "                  PickDate  \n",
       "0  2017-06-01 16:06:56.913  \n",
       "1  2017-06-01 16:07:18.077  \n",
       "2  2017-06-01 16:10:22.647  \n",
       "3  2017-06-01 16:11:54.473  \n",
       "4  2017-06-01 16:13:56.590  "
      ]
     },
     "execution_count": 11,
     "metadata": {},
     "output_type": "execute_result"
    }
   ],
   "source": [
    "# Reduce data size. All of the data is too big to fit in one Azure Notebook\n",
    "smallDF = DF_ParcelPickTwo.iloc[:2001]\n",
    "smallDF.head()"
   ]
  },
  {
   "cell_type": "markdown",
   "metadata": {},
   "source": [
    "# Visualize all of the data using various charts"
   ]
  },
  {
   "cell_type": "code",
   "execution_count": 12,
   "metadata": {},
   "outputs": [
    {
     "data": {
      "text/plain": [
       "<seaborn.axisgrid.FacetGrid at 0x7f68ac679f60>"
      ]
     },
     "execution_count": 12,
     "metadata": {},
     "output_type": "execute_result"
    },
    {
     "data": {
      "image/png": "[encoded data removed]",
      "text/plain": [
       "<matplotlib.figure.Figure at 0x7f68ac679b70>"
      ]
     },
     "metadata": {},
     "output_type": "display_data"
    }
   ],
   "source": [
    "# myData = sns.load_dataset(DF_ParcelPickTwo)\n",
    "sns.lmplot(x='Bay', y='Qty', data=smallDF)"
   ]
  },
  {
   "cell_type": "code",
   "execution_count": 13,
   "metadata": {},
   "outputs": [
    {
     "data": {
      "text/plain": [
       "<seaborn.axisgrid.FacetGrid at 0x7f68ac5d5c50>"
      ]
     },
     "execution_count": 13,
     "metadata": {},
     "output_type": "execute_result"
    },
    {
     "data": {
      "text/plain": [
       "<matplotlib.figure.Figure at 0x7f68ac5bd048>"
      ]
     },
     "metadata": {},
     "output_type": "display_data"
    },
    {
     "data": {
      "image/png": "[encoded data removed]",
      "text/plain": [
       "<matplotlib.figure.Figure at 0x7f68ac5d5dd8>"
      ]
     },
     "metadata": {},
     "output_type": "display_data"
    }
   ],
   "source": [
    "# f, ax = plt.subplots(figsize=(9, 6))\n",
    "# sns.heatmap(newData, annot=True, fmt=\"d\", linewidths=.5, ax=ax)\n",
    "plt.figure(figsize=(15,10))\n",
    "sns.lmplot(x       = 'Bay', \n",
    "           y       = 'Qty', \n",
    "           data    = smallDF,\n",
    "           fit_reg = False, # No regression line\n",
    "           hue     ='UserId')   "
   ]
  },
  {
   "cell_type": "code",
   "execution_count": 14,
   "metadata": {
    "scrolled": true
   },
   "outputs": [
    {
     "data": {
      "text/plain": [
       "<matplotlib.axes._subplots.AxesSubplot at 0x7f68ac5a3be0>"
      ]
     },
     "execution_count": 14,
     "metadata": {},
     "output_type": "execute_result"
    },
    {
     "data": {
      "image/png": "[encoded data removed]",
      "text/plain": [
       "<matplotlib.figure.Figure at 0x7f68ac62c2e8>"
      ]
     },
     "metadata": {},
     "output_type": "display_data"
    }
   ],
   "source": [
    "plt.figure(figsize=(15,6))\n",
    "sns.swarmplot(\n",
    "    x='Bay', y='Qty', data=smallDF,)"
   ]
  },
  {
   "cell_type": "markdown",
   "metadata": {},
   "source": [
    "## Build a data frame which only has numeric values"
   ]
  },
  {
   "cell_type": "code",
   "execution_count": 15,
   "metadata": {},
   "outputs": [
    {
     "data": {
      "text/html": [
       "<div>\n",
       "<style>\n",
       "    .dataframe thead tr:only-child th {\n",
       "        text-align: right;\n",
       "    }\n",
       "\n",
       "    .dataframe thead th {\n",
       "        text-align: left;\n",
       "    }\n",
       "\n",
       "    .dataframe tbody tr th {\n",
       "        vertical-align: top;\n",
       "    }\n",
       "</style>\n",
       "<table border=\"1\" class=\"dataframe\">\n",
       "  <thead>\n",
       "    <tr style=\"text-align: right;\">\n",
       "      <th></th>\n",
       "      <th>Bay</th>\n",
       "      <th>Level</th>\n",
       "      <th>Bay Position</th>\n",
       "      <th>Qty</th>\n",
       "    </tr>\n",
       "  </thead>\n",
       "  <tbody>\n",
       "    <tr>\n",
       "      <th>0</th>\n",
       "      <td>16.0</td>\n",
       "      <td>3.0</td>\n",
       "      <td>3.0</td>\n",
       "      <td>1.0</td>\n",
       "    </tr>\n",
       "    <tr>\n",
       "      <th>1</th>\n",
       "      <td>16.0</td>\n",
       "      <td>4.0</td>\n",
       "      <td>2.0</td>\n",
       "      <td>1.0</td>\n",
       "    </tr>\n",
       "    <tr>\n",
       "      <th>2</th>\n",
       "      <td>11.0</td>\n",
       "      <td>3.0</td>\n",
       "      <td>3.0</td>\n",
       "      <td>4.0</td>\n",
       "    </tr>\n",
       "    <tr>\n",
       "      <th>3</th>\n",
       "      <td>3.0</td>\n",
       "      <td>1.0</td>\n",
       "      <td>4.0</td>\n",
       "      <td>2.0</td>\n",
       "    </tr>\n",
       "    <tr>\n",
       "      <th>4</th>\n",
       "      <td>5.0</td>\n",
       "      <td>2.0</td>\n",
       "      <td>2.0</td>\n",
       "      <td>1.0</td>\n",
       "    </tr>\n",
       "  </tbody>\n",
       "</table>\n",
       "</div>"
      ],
      "text/plain": [
       "    Bay  Level  Bay Position  Qty\n",
       "0  16.0    3.0           3.0  1.0\n",
       "1  16.0    4.0           2.0  1.0\n",
       "2  11.0    3.0           3.0  4.0\n",
       "3   3.0    1.0           4.0  2.0\n",
       "4   5.0    2.0           2.0  1.0"
      ]
     },
     "execution_count": 15,
     "metadata": {},
     "output_type": "execute_result"
    }
   ],
   "source": [
    "onlyNumDF = DF_ParcelPickTwo\n",
    "# Drop all of the columns with values which are not numbers\n",
    "onlyNumDF.drop(['UserId', 'Aisle', 'Bin', 'ZoneCode', 'PickDate'], axis=1, inplace=True)\n",
    "onlyNumDF.iloc[:2001] \n",
    "onlyNumDF.head()"
   ]
  },
  {
   "cell_type": "markdown",
   "metadata": {},
   "source": [
    "## Draw correlations"
   ]
  },
  {
   "cell_type": "code",
   "execution_count": 16,
   "metadata": {},
   "outputs": [
    {
     "data": {
      "text/plain": [
       "<matplotlib.axes._subplots.AxesSubplot at 0x7f68a7fa37b8>"
      ]
     },
     "execution_count": 16,
     "metadata": {},
     "output_type": "execute_result"
    },
    {
     "data": {
      "image/png": "[encoded data removed]",
      "text/plain": [
       "<matplotlib.figure.Figure at 0x7f68a7fafa20>"
      ]
     },
     "metadata": {},
     "output_type": "display_data"
    }
   ],
   "source": [
    "plt.figure(figsize=(8,8))\n",
    "sns.heatmap(onlyNumDF.corr())"
   ]
  },
  {
   "cell_type": "markdown",
   "metadata": {},
   "source": [
    "## Convert non-numeric columns to numers & draw heat map"
   ]
  },
  {
   "cell_type": "code",
   "execution_count": 17,
   "metadata": {},
   "outputs": [
    {
     "data": {
      "text/html": [
       "<div>\n",
       "<style>\n",
       "    .dataframe thead tr:only-child th {\n",
       "        text-align: right;\n",
       "    }\n",
       "\n",
       "    .dataframe thead th {\n",
       "        text-align: left;\n",
       "    }\n",
       "\n",
       "    .dataframe tbody tr th {\n",
       "        vertical-align: top;\n",
       "    }\n",
       "</style>\n",
       "<table border=\"1\" class=\"dataframe\">\n",
       "  <thead>\n",
       "    <tr style=\"text-align: right;\">\n",
       "      <th></th>\n",
       "      <th>UserId</th>\n",
       "      <th>Bin</th>\n",
       "      <th>Aisle</th>\n",
       "      <th>Bay</th>\n",
       "      <th>Level</th>\n",
       "      <th>Bay Position</th>\n",
       "      <th>ZoneCode</th>\n",
       "      <th>Qty</th>\n",
       "      <th>PickDate</th>\n",
       "    </tr>\n",
       "  </thead>\n",
       "  <tbody>\n",
       "    <tr>\n",
       "      <th>UserId</th>\n",
       "      <td>1.000000</td>\n",
       "      <td>0.153331</td>\n",
       "      <td>-0.068885</td>\n",
       "      <td>-0.024226</td>\n",
       "      <td>0.008085</td>\n",
       "      <td>0.039630</td>\n",
       "      <td>0.025303</td>\n",
       "      <td>0.030362</td>\n",
       "      <td>0.275976</td>\n",
       "    </tr>\n",
       "    <tr>\n",
       "      <th>Bin</th>\n",
       "      <td>0.153331</td>\n",
       "      <td>1.000000</td>\n",
       "      <td>0.197072</td>\n",
       "      <td>0.112466</td>\n",
       "      <td>0.132979</td>\n",
       "      <td>0.119705</td>\n",
       "      <td>-0.105258</td>\n",
       "      <td>0.040323</td>\n",
       "      <td>0.516052</td>\n",
       "    </tr>\n",
       "    <tr>\n",
       "      <th>Aisle</th>\n",
       "      <td>-0.068885</td>\n",
       "      <td>0.197072</td>\n",
       "      <td>1.000000</td>\n",
       "      <td>0.022844</td>\n",
       "      <td>0.007747</td>\n",
       "      <td>0.039689</td>\n",
       "      <td>0.009963</td>\n",
       "      <td>0.045032</td>\n",
       "      <td>0.016941</td>\n",
       "    </tr>\n",
       "    <tr>\n",
       "      <th>Bay</th>\n",
       "      <td>-0.024226</td>\n",
       "      <td>0.112466</td>\n",
       "      <td>0.022844</td>\n",
       "      <td>1.000000</td>\n",
       "      <td>0.392727</td>\n",
       "      <td>0.489839</td>\n",
       "      <td>0.228434</td>\n",
       "      <td>0.031200</td>\n",
       "      <td>0.103107</td>\n",
       "    </tr>\n",
       "    <tr>\n",
       "      <th>Level</th>\n",
       "      <td>0.008085</td>\n",
       "      <td>0.132979</td>\n",
       "      <td>0.007747</td>\n",
       "      <td>0.392727</td>\n",
       "      <td>1.000000</td>\n",
       "      <td>0.450762</td>\n",
       "      <td>0.306197</td>\n",
       "      <td>0.006087</td>\n",
       "      <td>0.066620</td>\n",
       "    </tr>\n",
       "    <tr>\n",
       "      <th>Bay Position</th>\n",
       "      <td>0.039630</td>\n",
       "      <td>0.119705</td>\n",
       "      <td>0.039689</td>\n",
       "      <td>0.489839</td>\n",
       "      <td>0.450762</td>\n",
       "      <td>1.000000</td>\n",
       "      <td>0.183912</td>\n",
       "      <td>0.038524</td>\n",
       "      <td>0.086519</td>\n",
       "    </tr>\n",
       "    <tr>\n",
       "      <th>ZoneCode</th>\n",
       "      <td>0.025303</td>\n",
       "      <td>-0.105258</td>\n",
       "      <td>0.009963</td>\n",
       "      <td>0.228434</td>\n",
       "      <td>0.306197</td>\n",
       "      <td>0.183912</td>\n",
       "      <td>1.000000</td>\n",
       "      <td>0.001705</td>\n",
       "      <td>0.024518</td>\n",
       "    </tr>\n",
       "    <tr>\n",
       "      <th>Qty</th>\n",
       "      <td>0.030362</td>\n",
       "      <td>0.040323</td>\n",
       "      <td>0.045032</td>\n",
       "      <td>0.031200</td>\n",
       "      <td>0.006087</td>\n",
       "      <td>0.038524</td>\n",
       "      <td>0.001705</td>\n",
       "      <td>1.000000</td>\n",
       "      <td>0.043358</td>\n",
       "    </tr>\n",
       "    <tr>\n",
       "      <th>PickDate</th>\n",
       "      <td>0.275976</td>\n",
       "      <td>0.516052</td>\n",
       "      <td>0.016941</td>\n",
       "      <td>0.103107</td>\n",
       "      <td>0.066620</td>\n",
       "      <td>0.086519</td>\n",
       "      <td>0.024518</td>\n",
       "      <td>0.043358</td>\n",
       "      <td>1.000000</td>\n",
       "    </tr>\n",
       "  </tbody>\n",
       "</table>\n",
       "</div>"
      ],
      "text/plain": [
       "                UserId       Bin     Aisle       Bay     Level  Bay Position  \\\n",
       "UserId        1.000000  0.153331 -0.068885 -0.024226  0.008085      0.039630   \n",
       "Bin           0.153331  1.000000  0.197072  0.112466  0.132979      0.119705   \n",
       "Aisle        -0.068885  0.197072  1.000000  0.022844  0.007747      0.039689   \n",
       "Bay          -0.024226  0.112466  0.022844  1.000000  0.392727      0.489839   \n",
       "Level         0.008085  0.132979  0.007747  0.392727  1.000000      0.450762   \n",
       "Bay Position  0.039630  0.119705  0.039689  0.489839  0.450762      1.000000   \n",
       "ZoneCode      0.025303 -0.105258  0.009963  0.228434  0.306197      0.183912   \n",
       "Qty           0.030362  0.040323  0.045032  0.031200  0.006087      0.038524   \n",
       "PickDate      0.275976  0.516052  0.016941  0.103107  0.066620      0.086519   \n",
       "\n",
       "              ZoneCode       Qty  PickDate  \n",
       "UserId        0.025303  0.030362  0.275976  \n",
       "Bin          -0.105258  0.040323  0.516052  \n",
       "Aisle         0.009963  0.045032  0.016941  \n",
       "Bay           0.228434  0.031200  0.103107  \n",
       "Level         0.306197  0.006087  0.066620  \n",
       "Bay Position  0.183912  0.038524  0.086519  \n",
       "ZoneCode      1.000000  0.001705  0.024518  \n",
       "Qty           0.001705  1.000000  0.043358  \n",
       "PickDate      0.024518  0.043358  1.000000  "
      ]
     },
     "execution_count": 17,
     "metadata": {},
     "output_type": "execute_result"
    }
   ],
   "source": [
    "# https://stackoverflow.com/questions/47002168/correlation-between-two-non-numeric-columns-in-a-pandas-dataframe\n",
    "myNewDF = smallDF.apply(lambda x: x.factorize()[0]).corr()\n",
    "myNewDF"
   ]
  },
  {
   "cell_type": "code",
   "execution_count": 18,
   "metadata": {},
   "outputs": [
    {
     "data": {
      "text/plain": [
       "<matplotlib.axes._subplots.AxesSubplot at 0x7f68a7ece4a8>"
      ]
     },
     "execution_count": 18,
     "metadata": {},
     "output_type": "execute_result"
    },
    {
     "data": {
      "image/png": "[encoded data removed]",
      "text/plain": [
       "<matplotlib.figure.Figure at 0x7f68a7f5b4a8>"
      ]
     },
     "metadata": {},
     "output_type": "display_data"
    }
   ],
   "source": [
    "sns.heatmap(pd.crosstab(myNewDF.Bay, myNewDF.Level))"
   ]
  },
  {
   "cell_type": "markdown",
   "metadata": {},
   "source": [
    "## Brian Goodwin's heatmap for Lane vs Time"
   ]
  },
  {
   "cell_type": "code",
   "execution_count": 19,
   "metadata": {
    "collapsed": true
   },
   "outputs": [],
   "source": [
    "df             = DF_Picking\n",
    "df['PickDate'] = pd.to_datetime(df['PickDate'])\n",
    "timelist       = pd.date_range(start=min(df[\"PickDate\"]),periods=100,freq='15min').tolist()\n",
    "getbin         = lambda d: bs.bisect_left(timelist,d)\n",
    "\n",
    "df[\"bin\"]        = df[\"PickDate\"].apply(getbin)\n",
    "df[\"Lane\"]       = df[\"Bin\"].apply(lambda d: d[0:2])\n",
    "df.rename(columns={\"bin\":\"Time\"},inplace=True)\n",
    "\n",
    "tmp = pd.pivot_table(df,values=\"Qty\",index=\"Lane\",columns=[\"Time\"],aggfunc=np.sum)\n",
    "tmp.fillna(0,inplace=True)"
   ]
  },
  {
   "cell_type": "code",
   "execution_count": 20,
   "metadata": {},
   "outputs": [
    {
     "data": {
      "text/plain": [
       "<matplotlib.axes._subplots.AxesSubplot at 0x7f68a7e80d30>"
      ]
     },
     "execution_count": 20,
     "metadata": {},
     "output_type": "execute_result"
    },
    {
     "data": {
      "image/png": "[encoded data removed]",
      "text/plain": [
       "<matplotlib.figure.Figure at 0x7f68a7e4e390>"
      ]
     },
     "metadata": {},
     "output_type": "display_data"
    }
   ],
   "source": [
    "plt.figure(figsize=(20,12))\n",
    "sns.heatmap(tmp,cmap=\"YlGnBu\",vmax=50,xticklabels=timelist[:55])"
   ]
  }
 ],
 "metadata": {
  "kernelspec": {
   "display_name": "Python 3.6",
   "language": "python",
   "name": "python36"
  },
  "language_info": {
   "codemirror_mode": {
    "name": "ipython",
    "version": 3
   },
   "file_extension": ".py",
   "mimetype": "text/x-python",
   "name": "python",
   "nbconvert_exporter": "python",
   "pygments_lexer": "ipython3",
   "version": "3.6.3"
  }
 },
 "nbformat": 4,
 "nbformat_minor": 2
}
